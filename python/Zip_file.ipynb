{
  "metadata": {
    "kernelspec": {
      "name": "py-dku-venv-adv",
      "display_name": "Python (env adv)",
      "language": "python"
    },
    "associatedRecipe": "compute_UQoec60k",
    "creator": "nikhil.mendhulkar",
    "createdOn": 1672905175698,
    "tags": [
      "recipe-editor"
    ],
    "customFields": {},
    "language_info": {
      "name": "python",
      "version": "3.7.12",
      "mimetype": "text/x-python",
      "codemirror_mode": {
        "name": "ipython",
        "version": 3
      },
      "pygments_lexer": "ipython3",
      "nbconvert_exporter": "python",
      "file_extension": ".py"
    },
    "modifiedBy": "nikhil.mendhulkar"
  },
  "nbformat": 4,
  "nbformat_minor": 1,
  "cells": [
    {
      "execution_count": 0,
      "cell_type": "code",
      "metadata": {},
      "source": [
        "# -*- coding: utf-8 -*-\nimport dataiku\nimport pandas as pd, numpy as np\nfrom dataiku import pandasutils as pdu\n# importing the zipfile module\nimport zipfile\nfrom zipfile import ZipFile\nimport os"
      ],
      "outputs": []
    },
    {
      "execution_count": 0,
      "cell_type": "code",
      "metadata": {},
      "source": [
        "# Read recipe inputs\ntest \u003d dataiku.Folder(\"UQoec60k\")\ntest_info \u003d test.get_info()\n\n\n# Write recipe outputs\ntest \u003d dataiku.Folder(\"UQoec60k\")\ntest_info \u003d test.get_info()"
      ],
      "outputs": []
    },
    {
      "execution_count": 0,
      "cell_type": "code",
      "metadata": {},
      "source": [
        "# absolute path\npath_1\u003dtest.list_paths_in_partition()\ntest.file_path(path_1[0])"
      ],
      "outputs": []
    },
    {
      "execution_count": 0,
      "cell_type": "code",
      "metadata": {},
      "source": [
        "# Make folder to store the files\ndir \u003d os.path.join(\"/home/ubuntu/dataiku/DATA_DIR/managed_folders/TEST/UQoec60k\",\"Customer_data\")\nif not os.path.exists(dir):\n    os.mkdir(dir)"
      ],
      "outputs": []
    },
    {
      "execution_count": 0,
      "cell_type": "code",
      "metadata": {},
      "source": [
        "# loading the zip and creating a zip object\nwith ZipFile(\u0027/home/ubuntu/dataiku/DATA_DIR/managed_folders/TEST/UQoec60k/Customer_item.zip\u0027, \u0027r\u0027) as zObject:\n\n# Extracting all the members of the zip\n# into a specific location.\n    zObject.extractall(\n    path\u003d\u0027/home/ubuntu/dataiku/DATA_DIR/managed_folders/TEST/UQoec60k/Customer_data\u0027)"
      ],
      "outputs": []
    },
    {
      "execution_count": 25,
      "cell_type": "code",
      "metadata": {},
      "source": [
        "# path of the directory\npath \u003d \"/home/ubuntu/dataiku/DATA_DIR/managed_folders/TEST/UQoec60k/Customer_data\"\n# Getting the list of directories\ndir \u003d os.listdir(path)\nprint(dir)"
      ],
      "outputs": [
        {
          "output_type": "stream",
          "text": "[\u0027customer_2.csv\u0027, \u0027customer_3.csv\u0027, \u0027customer_1.csv\u0027]\n",
          "name": "stdout"
        }
      ]
    },
    {
      "execution_count": 0,
      "cell_type": "code",
      "metadata": {},
      "source": [
        ""
      ],
      "outputs": []
    },
    {
      "execution_count": 0,
      "cell_type": "code",
      "metadata": {},
      "source": [
        ""
      ],
      "outputs": []
    }
  ]
}