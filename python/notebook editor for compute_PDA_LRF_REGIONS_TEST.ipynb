{
  "metadata": {
    "kernelspec": {
      "name": "py-dku-venv-pda_nexus",
      "display_name": "Python (env PDA_NEXUS)",
      "language": "python"
    },
    "associatedRecipe": "compute_PDA_LRF_REGIONS_TEST",
    "dkuGit": {
      "lastInteraction": 0
    },
    "creationTag": {
      "versionNumber": 0,
      "lastModifiedBy": {
        "login": "gopina02"
      },
      "lastModifiedOn": 1643796162277
    },
    "creator": "gopina02",
    "createdOn": 1643796162277,
    "tags": [
      "recipe-editor"
    ],
    "customFields": {},
    "hide_input": false,
    "language_info": {
      "name": "python",
      "version": "3.6.8",
      "mimetype": "text/x-python",
      "codemirror_mode": {
        "name": "ipython",
        "version": 3
      },
      "pygments_lexer": "ipython3",
      "nbconvert_exporter": "python",
      "file_extension": ".py"
    },
    "modifiedBy": "gopina02"
  },
  "nbformat": 4,
  "nbformat_minor": 1,
  "cells": [
    {
      "execution_count": 0,
      "cell_type": "code",
      "metadata": {},
      "source": [
        "# -*- coding: utf-8 -*-\nimport dataiku\nimport pandas as pd, numpy as np\nfrom dataiku import pandasutils as pdu\nfrom shareplum import Site\n\n# Read recipe inputs\nSharePoint_2013_Config \u003d dataiku.Dataset(\"SharePoint_2013_Config\")\nSharePoint_2013_Config_df \u003d SharePoint_2013_Config.get_dataframe()"
      ],
      "outputs": []
    },
    {
      "execution_count": 0,
      "cell_type": "code",
      "metadata": {},
      "source": [
        "def read_Lists_from_SP_to_DSS(url, user, password, list_name, sp_view):\n    #read lists from sharepoint lists\n    try:\n        Auth\u003dHttpNtlmAuth(user,password)\n        site \u003d Site(url, auth\u003dAuth)\n        sp_list \u003d site.List(list_name)\n        #sp_list \u003d list_name.GetListItems(\u0027\u0027)\n        data \u003d sp_list.GetListItems(sp_view);\n        data_df \u003d pd.DataFrame(data)\n        return data_df\n    except Exception as e:\n        return \u0027error in reading from SharePoint: \u0027 + e"
      ],
      "outputs": []
    },
    {
      "execution_count": 0,
      "cell_type": "code",
      "metadata": {},
      "source": [
        "user \u003d dataiku.get_custom_variables()[\u0027Username\u0027]\npassword \u003d dataiku.get_custom_variables()[\u0027Password\u0027]\nActual_url \u003d \"http://ecfd13.pfizer.com/sites/MyLRF/_api/web/lists/getbytitle(\u0027Regions\u0027)/items\"\nurl \u003d \"http://ecfd13.pfizer.com/sites/MyLRF/\"\nlist_of_listNames \u003d [\u0027Regions\u0027, \u0027Profile Scenario\u0027, \u0027KM_Admin_Lookup(for Revenue Range)\u0027, \u0027ProgramType\u0027, \u0027Programs\u0027,\n                      \u0027ProgramDetails\u0027]"
      ],
      "outputs": []
    },
    {
      "execution_count": 0,
      "cell_type": "code",
      "metadata": {},
      "source": [
        "for list in list_of_listNames:\n    DF \u003d read_Lists_from_SP_to_DSS(url, user, password, list_name, sp_view)\n    display(DF)"
      ],
      "outputs": []
    },
    {
      "execution_count": 0,
      "cell_type": "code",
      "metadata": {},
      "source": [
        "# Compute recipe outputs from inputs\n# TODO: Replace this part by your actual code that computes the output, as a Pandas dataframe\n# NB: DSS also supports other kinds of APIs for reading and writing data. Please see doc.\n\npda_LRF_REGIONS_TEST_df \u003d pda_LRF_REGIONS_df # For this sample code, simply copy input to output\n\n\n# Write recipe outputs\npda_LRF_REGIONS_TEST \u003d dataiku.Dataset(\"PDA_LRF_REGIONS_TEST\")\npda_LRF_REGIONS_TEST.write_with_schema(pda_LRF_REGIONS_TEST_df)"
      ],
      "outputs": []
    }
  ]
}